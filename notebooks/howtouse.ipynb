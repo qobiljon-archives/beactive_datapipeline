{
 "cells": [
  {
   "cell_type": "markdown",
   "metadata": {},
   "source": [
    "## Load Data"
   ]
  },
  {
   "cell_type": "code",
   "execution_count": 13,
   "metadata": {},
   "outputs": [],
   "source": [
    "import pandas as pd"
   ]
  },
  {
   "cell_type": "code",
   "execution_count": 14,
   "metadata": {},
   "outputs": [
    {
     "name": "stdout",
     "output_type": "stream",
     "text": [
      "The autoreload extension is already loaded. To reload it, use:\n",
      "  %reload_ext autoreload\n"
     ]
    }
   ],
   "source": [
    "%load_ext autoreload\n",
    "%autoreload 2\n",
    "from scripts.DbConnector import DbConnector"
   ]
  },
  {
   "cell_type": "code",
   "execution_count": 15,
   "metadata": {},
   "outputs": [],
   "source": [
    "dbc= DbConnector()"
   ]
  },
  {
   "cell_type": "code",
   "execution_count": 17,
   "metadata": {},
   "outputs": [
    {
     "name": "stdout",
     "output_type": "stream",
     "text": [
      "****SSH Tunnel Established****\n",
      "Connected<pymysql.connections.Connection object at 0x00000212C99E60F0>\n"
     ]
    }
   ],
   "source": [
    "dbc.connect()"
   ]
  },
  {
   "cell_type": "code",
   "execution_count": 18,
   "metadata": {},
   "outputs": [],
   "source": [
    "from scripts.GroupDbLoader import GroupDbLoader"
   ]
  },
  {
   "cell_type": "code",
   "execution_count": 19,
   "metadata": {},
   "outputs": [],
   "source": [
    "gdl = GroupDbLoader(\"차세정_E\")"
   ]
  },
  {
   "cell_type": "code",
   "execution_count": 20,
   "metadata": {},
   "outputs": [
    {
     "name": "stdout",
     "output_type": "stream",
     "text": [
      "****SSH Tunnel Established****\n",
      "select groupInfo.gid, groupInfo.oid, groupInfo.groupName, groupInfo.groupConfig, UNIX_TIMESTAMP(`launched`), UNIX_TIMESTAMP(`finished`), groupInfo.topicArn from groupInfo where groupName=\"차세정_E\"\n",
      "groupInfo-----------------------\n",
      "select groupMembers.gid, groupMembers.uid, groupMembers.extraConfig, groupMembers.extraStatus, groupMembers.accessTime, groupMembers.uploadTime, groupMembers.stepCount, groupMembers.SubscriptionArn from groupMembers where gid=\"126\"\n",
      "groupMembers-----------------------\n",
      "select StatusActivity.id, StatusActivity.uid, UNIX_TIMESTAMP(`timestamp`), StatusActivity.status from StatusActivity where uid in (3071, 3073, 3076, 3080, 3087, 3090, 3092, 3101, 3106, 3121, 3124, 3125, 3132, 3135, 3143, 3148, 3154, 3158, 3160, 3162, 3167, 3174, 3177, 3182, 3185, 3196, 3210, 3215, 3220, 3228, 3232, 3234, 3238, 3241, 3245, 3254, 3258, 3261, 3274, 3276, 3282, 3285, 3313, 3315, 3318, 3325, 3327, 3329, 3333, 3342, 3344, 3352, 3356, 3378, 3381, 3386, 3388, 3400, 3403, 3408, 3486, 3489, 3493, 3531, 3540, 3543, 3560, 3582, 3647, 3651, 3655, 3660, 3672, 3682, 3715, 3720, 3762, 3769) and UNIX_TIMESTAMP(`timestamp`) between 1597623621.422000 and 3198230458\n",
      "StatusActivity-----------------------\n",
      "select missionsViewAlarms.id, missionsViewAlarms.gid, missionsViewAlarms.uid, missionsViewAlarms.missionType, missionsViewAlarms.condition, UNIX_TIMESTAMP(`missionIssued`), missionsViewAlarms.missionResult, missionsViewAlarms.missionPoint, missionsViewAlarms.missionIssuedComment, missionsViewAlarms.missionDate, missionsViewAlarms.notificationResponse, missionsViewAlarms.rewardTime, missionsViewAlarms.rewardCode from missionsViewAlarms where gid=\"126\"\n",
      "missionsViewAlarms-----------------------\n",
      "select missionsView.id, missionsView.gid, missionsView.uid, missionsView.missionType, missionsView.condition, UNIX_TIMESTAMP(`missionIssued`), missionsView.missionResult, missionsView.missionPoint, missionsView.missionIssuedComment, missionsView.notificationResponse, missionsView.missionDate from missionsView where gid=\"126\"\n",
      "missionsView-----------------------\n",
      "select rewardView.id, rewardView.gid, rewardView.uid, rewardView.rewardTime, rewardView.missionPoint, rewardView.rewardCode, rewardView.missionDate, rewardView.condition, rewardView.missionIssuedComment from rewardView where gid=\"126\"\n",
      "rewardView-----------------------\n",
      "select missions.id, missions.gid, missions.uid, missions.missionType, missions.condition, UNIX_TIMESTAMP(`missionIssued`), missions.missionResult, missions.missionPoint, missions.missionIssuedComment, missions.missionDate, missions.notificationResponse, missions.rewardTime, missions.rewardCode from missions where gid=\"126\"\n",
      "missions-----------------------\n",
      "select ActivityLogStepCount.uid, ActivityLogStepCount.start_time, ActivityLogStepCount.step_count, ActivityLogStepCount.duration, ActivityLogStepCount.distance from ActivityLogStepCount where start_time between 1597623621422.000000 and 3198230458000 and uid in (3071, 3073, 3076, 3080, 3087, 3090, 3092, 3101, 3106, 3121, 3124, 3125, 3132, 3135, 3143, 3148, 3154, 3158, 3160, 3162, 3167, 3174, 3177, 3182, 3185, 3196, 3210, 3215, 3220, 3228, 3232, 3234, 3238, 3241, 3245, 3254, 3258, 3261, 3274, 3276, 3282, 3285, 3313, 3315, 3318, 3325, 3327, 3329, 3333, 3342, 3344, 3352, 3356, 3378, 3381, 3386, 3388, 3400, 3403, 3408, 3486, 3489, 3493, 3531, 3540, 3543, 3560, 3582, 3647, 3651, 3655, 3660, 3672, 3682, 3715, 3720, 3762, 3769)\n"
     ]
    }
   ],
   "source": [
    "gdl.connect()"
   ]
  },
  {
   "cell_type": "code",
   "execution_count": 21,
   "metadata": {},
   "outputs": [
    {
     "data": {
      "text/plain": [
       "dict_keys(['statusActivity', 'missionsViewAlarms', 'missionsView', 'rewardView', 'missions', 'stepCount'])"
      ]
     },
     "execution_count": 21,
     "metadata": {},
     "output_type": "execute_result"
    }
   ],
   "source": [
    "gdl.tables.keys()"
   ]
  },
  {
   "cell_type": "code",
   "execution_count": null,
   "metadata": {},
   "outputs": [],
   "source": [
    "gdl.groupName, gdl.gid, gdl.start, gdl.end"
   ]
  },
  {
   "cell_type": "code",
   "execution_count": null,
   "metadata": {},
   "outputs": [],
   "source": [
    "print(gdl.uids)"
   ]
  },
  {
   "cell_type": "code",
   "execution_count": null,
   "metadata": {},
   "outputs": [],
   "source": [
    "len(gdl.uids)"
   ]
  },
  {
   "cell_type": "code",
   "execution_count": null,
   "metadata": {},
   "outputs": [],
   "source": [
    "gdl.groupMembers"
   ]
  },
  {
   "cell_type": "code",
   "execution_count": null,
   "metadata": {},
   "outputs": [],
   "source": [
    "gdl.tables['statusActivity']"
   ]
  },
  {
   "cell_type": "code",
   "execution_count": null,
   "metadata": {},
   "outputs": [],
   "source": [
    "gdl.tables['stepCount']"
   ]
  },
  {
   "cell_type": "code",
   "execution_count": null,
   "metadata": {},
   "outputs": [],
   "source": [
    "gdl.tables['missionsViewAlarms']"
   ]
  },
  {
   "cell_type": "markdown",
   "metadata": {},
   "source": [
    "## Report "
   ]
  },
  {
   "cell_type": "code",
   "execution_count": null,
   "metadata": {},
   "outputs": [],
   "source": [
    "from scripts.ReportGenerator import *"
   ]
  },
  {
   "cell_type": "code",
   "execution_count": null,
   "metadata": {},
   "outputs": [],
   "source": [
    "rg = ReportGenerator(gdl)"
   ]
  },
  {
   "cell_type": "code",
   "execution_count": null,
   "metadata": {},
   "outputs": [],
   "source": [
    "rg.run()"
   ]
  },
  {
   "cell_type": "code",
   "execution_count": null,
   "metadata": {},
   "outputs": [],
   "source": [
    "rg.tables.keys()"
   ]
  },
  {
   "cell_type": "code",
   "execution_count": null,
   "metadata": {},
   "outputs": [],
   "source": [
    "rg.tables['StandupData']"
   ]
  },
  {
   "cell_type": "code",
   "execution_count": null,
   "metadata": {},
   "outputs": [],
   "source": [
    "rg.tables['standupCount']"
   ]
  },
  {
   "cell_type": "code",
   "execution_count": null,
   "metadata": {},
   "outputs": [],
   "source": [
    "rg.tables['activityTimeData']"
   ]
  },
  {
   "cell_type": "code",
   "execution_count": null,
   "metadata": {},
   "outputs": [],
   "source": []
  }
 ],
 "metadata": {
  "kernelspec": {
   "display_name": "Python 3",
   "language": "python",
   "name": "python3"
  },
  "language_info": {
   "codemirror_mode": {
    "name": "ipython",
    "version": 3
   },
   "file_extension": ".py",
   "mimetype": "text/x-python",
   "name": "python",
   "nbconvert_exporter": "python",
   "pygments_lexer": "ipython3",
   "version": "3.6.8"
  }
 },
 "nbformat": 4,
 "nbformat_minor": 4
}
